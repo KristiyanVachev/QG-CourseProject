{
 "cells": [
  {
   "cell_type": "code",
   "execution_count": null,
   "metadata": {},
   "outputs": [],
   "source": []
  },
  {
   "cell_type": "code",
   "execution_count": 153,
   "metadata": {},
   "outputs": [],
   "source": [
    "import pandas as pd\n",
    "\n",
    "data = pd.read_json('data/original.json',orient='column')"
   ]
  },
  {
   "cell_type": "code",
   "execution_count": 154,
   "metadata": {},
   "outputs": [
    {
     "data": {
      "text/plain": [
       "'Architecturally, the school has a Catholic character. Atop the Main Building\\'s gold dome is a golden statue of the Virgin Mary. Immediately in front of the Main Building and facing it, is a copper statue of Christ with arms upraised with the legend \"Venite Ad Me Omnes\". Next to the Main Building is the Basilica of the Sacred Heart. Immediately behind the basilica is the Grotto, a Marian place of prayer and reflection. It is a replica of the grotto at Lourdes, France where the Virgin Mary reputedly appeared to Saint Bernadette Soubirous in 1858. At the end of the main drive (and in a direct line that connects through 3 statues and the Gold Dome), is a simple, modern stone statue of Mary.'"
      ]
     },
     "execution_count": 154,
     "metadata": {},
     "output_type": "execute_result"
    }
   ],
   "source": [
    "data['data'][0]['paragraphs'][0]['context']\n"
   ]
  },
  {
   "cell_type": "code",
   "execution_count": 155,
   "metadata": {},
   "outputs": [
    {
     "data": {
      "text/plain": [
       "[{'answers': [{'answer_start': 515, 'text': 'Saint Bernadette Soubirous'}],\n",
       "  'id': '5733be284776f41900661182',\n",
       "  'question': 'To whom did the Virgin Mary allegedly appear in 1858 in Lourdes France?'},\n",
       " {'answers': [{'answer_start': 188, 'text': 'a copper statue of Christ'}],\n",
       "  'id': '5733be284776f4190066117f',\n",
       "  'question': 'What is in front of the Notre Dame Main Building?'},\n",
       " {'answers': [{'answer_start': 279, 'text': 'the Main Building'}],\n",
       "  'id': '5733be284776f41900661180',\n",
       "  'question': 'The Basilica of the Sacred heart at Notre Dame is beside to which structure?'},\n",
       " {'answers': [{'answer_start': 381,\n",
       "    'text': 'a Marian place of prayer and reflection'}],\n",
       "  'id': '5733be284776f41900661181',\n",
       "  'question': 'What is the Grotto at Notre Dame?'},\n",
       " {'answers': [{'answer_start': 92,\n",
       "    'text': 'a golden statue of the Virgin Mary'}],\n",
       "  'id': '5733be284776f4190066117e',\n",
       "  'question': 'What sits on top of the Main Building at Notre Dame?'}]"
      ]
     },
     "execution_count": 155,
     "metadata": {},
     "output_type": "execute_result"
    }
   ],
   "source": [
    "data['data'][0]['paragraphs'][0]['qas']"
   ]
  },
  {
   "cell_type": "code",
   "execution_count": 156,
   "metadata": {},
   "outputs": [
    {
     "data": {
      "text/plain": [
       "'Saint Bernadette Soubirous'"
      ]
     },
     "execution_count": 156,
     "metadata": {},
     "output_type": "execute_result"
    }
   ],
   "source": [
    "data['data'][0]['paragraphs'][0]['qas'][0]['answers'][0]['text']"
   ]
  },
  {
   "cell_type": "code",
   "execution_count": 157,
   "metadata": {},
   "outputs": [
    {
     "data": {
      "text/plain": [
       "\"As at most other universities, Notre Dame's students run a number of news media outlets. The nine student-run outlets include three newspapers, both a radio and television station, and several magazines and journals. Begun as a one-page journal in September 1876, the Scholastic magazine is issued twice monthly and claims to be the oldest continuous collegiate publication in the United States. The other magazine, The Juggler, is released twice a year and focuses on student literature and artwork. The Dome yearbook is published annually. The newspapers have varying publication interests, with The Observer published daily and mainly reporting university and other news, and staffed by students from both Notre Dame and Saint Mary's College. Unlike Scholastic and The Dome, The Observer is an independent publication and does not have a faculty advisor or any editorial oversight from the University. In 1987, when some students believed that The Observer began to show a conservative bias, a liberal newspaper, Common Sense was published. Likewise, in 2003, when other students believed that the paper showed a liberal bias, the conservative paper Irish Rover went into production. Neither paper is published as often as The Observer; however, all three are distributed to all students. Finally, in Spring 2008 an undergraduate journal for political science research, Beyond Politics, made its debut.\""
      ]
     },
     "execution_count": 157,
     "metadata": {},
     "output_type": "execute_result"
    }
   ],
   "source": [
    "# for each data['data'][0]\n",
    "data['data'][0]['paragraphs'][1]['context']"
   ]
  },
  {
   "cell_type": "code",
   "execution_count": 171,
   "metadata": {},
   "outputs": [],
   "source": [
    "#file = open('data/paragraphs.txt','w') \n",
    " \n",
    "#file.writelines(paragraphs) \n",
    "#file.close()"
   ]
  },
  {
   "cell_type": "code",
   "execution_count": 176,
   "metadata": {},
   "outputs": [
    {
     "name": "stdout",
     "output_type": "stream",
     "text": [
      "18896\n",
      "18896\n"
     ]
    }
   ],
   "source": [
    "#All paragraphs\n",
    "paragraphs = []\n",
    "answers = []\n",
    "\n",
    "for articleIndex in range(data['data'].size):\n",
    "    for paragraphIndex in range (len(data['data'][articleIndex]['paragraphs'])):\n",
    "        paragraphs.append(data['data'][articleIndex]['paragraphs'][paragraphIndex]['context'])\n",
    "        \n",
    "        #Gather all answers for the paragraph\n",
    "        paragraphAnswers = []\n",
    "        for QAIndex in range(len(data['data'][articleIndex]['paragraphs'][paragraphIndex]['qas'])):\n",
    "            paragraphAnswers.append(data['data'][articleIndex]['paragraphs'][paragraphIndex]['qas'][QAIndex]['answers'][0]['text'])\n",
    "\n",
    "        #Gather answers for paragrapgh with the others\n",
    "        answers.append(paragraphAnswers)\n",
    "        \n",
    "print (len(paragraphs))\n",
    "print (len(answers))"
   ]
  },
  {
   "cell_type": "code",
   "execution_count": 178,
   "metadata": {},
   "outputs": [
    {
     "data": {
      "text/plain": [
       "\"As at most other universities, Notre Dame's students run a number of news media outlets. The nine student-run outlets include three newspapers, both a radio and television station, and several magazines and journals. Begun as a one-page journal in September 1876, the Scholastic magazine is issued twice monthly and claims to be the oldest continuous collegiate publication in the United States. The other magazine, The Juggler, is released twice a year and focuses on student literature and artwork. The Dome yearbook is published annually. The newspapers have varying publication interests, with The Observer published daily and mainly reporting university and other news, and staffed by students from both Notre Dame and Saint Mary's College. Unlike Scholastic and The Dome, The Observer is an independent publication and does not have a faculty advisor or any editorial oversight from the University. In 1987, when some students believed that The Observer began to show a conservative bias, a liberal newspaper, Common Sense was published. Likewise, in 2003, when other students believed that the paper showed a liberal bias, the conservative paper Irish Rover went into production. Neither paper is published as often as The Observer; however, all three are distributed to all students. Finally, in Spring 2008 an undergraduate journal for political science research, Beyond Politics, made its debut.\""
      ]
     },
     "execution_count": 178,
     "metadata": {},
     "output_type": "execute_result"
    }
   ],
   "source": [
    "paragraphs[1]"
   ]
  },
  {
   "cell_type": "markdown",
   "metadata": {},
   "source": [
    "Let's clean the data. I'm guessing that the mechanical turks have been imaginative and have used different words, not exactly as in the text, for the answers.\n",
    "Probably there are a few additional words like \"a\" and \"the\" or some synonyms used which I can clean. "
   ]
  },
  {
   "cell_type": "code",
   "execution_count": 179,
   "metadata": {},
   "outputs": [
    {
     "name": "stdout",
     "output_type": "stream",
     "text": [
      "answers in text: 87599\n",
      "answers not in text: 0\n"
     ]
    }
   ],
   "source": [
    "answerInText = []\n",
    "\n",
    "for paragraphIndex in range(len(paragraphs)):\n",
    "    paragraphAnswers = []\n",
    "    for answerIndex in range(len(answers[paragraphIndex])):\n",
    "        paragraphAnswers.append(answers[paragraphIndex][answerIndex] in paragraphs[paragraphIndex])\n",
    "    answerInText.append(paragraphAnswers)\n",
    "    \n",
    "print ('answers in text: ' + str(sum(x.count(True) for x in answerInText)))\n",
    "print ('answers not in text: ' + str(sum(x.count(False) for x in answerInText)))"
   ]
  },
  {
   "cell_type": "code",
   "execution_count": 180,
   "metadata": {},
   "outputs": [
    {
     "data": {
      "text/plain": [
       "'The Rev. Theodore Hesburgh, C.S.C., (1917–2015) served as president for 35 years (1952–87) of dramatic transformations. In that time the annual operating budget rose by a factor of 18 from $9.7 million to $176.6 million, and the endowment by a factor of 40 from $9 million to $350 million, and research funding by a factor of 20 from $735,000 to $15 million. Enrollment nearly doubled from 4,979 to 9,600, faculty more than doubled 389 to 950, and degrees awarded annually doubled from 1,212 to 2,500.'"
      ]
     },
     "execution_count": 180,
     "metadata": {},
     "output_type": "execute_result"
    }
   ],
   "source": [
    "paragraphs[24]"
   ]
  },
  {
   "cell_type": "code",
   "execution_count": 181,
   "metadata": {},
   "outputs": [
    {
     "data": {
      "text/plain": [
       "['1917–2015', '18', '$9 million', '1952–87', '950']"
      ]
     },
     "execution_count": 181,
     "metadata": {},
     "output_type": "execute_result"
    }
   ],
   "source": [
    "answers[24]"
   ]
  },
  {
   "cell_type": "markdown",
   "metadata": {},
   "source": [
    "Really. Absolutely no imagination?"
   ]
  },
  {
   "cell_type": "markdown",
   "metadata": {},
   "source": [
    "Let's lowercase all text.\n",
    "\n",
    "I also see a lot of numbers. But different numbers would be harder for the neural network to catch. Let's encode all the numbers to be more similar.If we switch each digit with a '#'we'll also preserve the different kinds of numbers. #### would most likely represent years. ## - age and so on.\n",
    "\n",
    "The same could be done for names. Especially if the entire article is for a person or a place, like Gengis Khan, we can encode that as well."
   ]
  },
  {
   "cell_type": "code",
   "execution_count": 182,
   "metadata": {},
   "outputs": [],
   "source": [
    "import re\n",
    "\n",
    "for paragraphIndex in range(len(paragraphs)):\n",
    "    paragraphs[paragraphIndex] = re.sub('\\d', '#', paragraphs[paragraphIndex])\n",
    "    paragraphs[paragraphIndex] = paragraphs[paragraphIndex].lower()\n",
    "    \n",
    "for paragraphAnswersIndex in range(len(answers)):\n",
    "    for answerIndex in range(len(answers[paragraphAnswersIndex])):\n",
    "        answers[paragraphAnswersIndex][answerIndex] = re.sub('\\d', '#', answers[paragraphAnswersIndex][answerIndex])\n",
    "        answers[paragraphAnswersIndex][answerIndex] = answers[paragraphAnswersIndex][answerIndex].lower()\n"
   ]
  },
  {
   "cell_type": "code",
   "execution_count": 183,
   "metadata": {},
   "outputs": [
    {
     "data": {
      "text/plain": [
       "'the first generation ipod nano may overheat and pose a health and safety risk. affected ipod nanos were sold between september #### and december ####. this is due to a flawed battery used by apple from a single battery manufacturer. apple recommended that owners of affected ipod nanos stop using them. under an apple product replacement program, affected nanos were replaced with current generation nanos free of charge.'"
      ]
     },
     "execution_count": 183,
     "metadata": {},
     "output_type": "execute_result"
    }
   ],
   "source": [
    "paragraphs[424]"
   ]
  },
  {
   "cell_type": "code",
   "execution_count": 184,
   "metadata": {},
   "outputs": [
    {
     "data": {
      "text/plain": [
       "['####–####', '##', '$# million', '####–##', '###']"
      ]
     },
     "execution_count": 184,
     "metadata": {},
     "output_type": "execute_result"
    }
   ],
   "source": [
    "answers[24]"
   ]
  },
  {
   "cell_type": "markdown",
   "metadata": {},
   "source": [
    "Should I \n",
    "(1) treat each answer paired with its paragraph as a sample or should \n",
    "(2) each paragraph be a sample with all its answers concatenated. \n",
    "(2) would potentially give me more answer worthy phrases from a text, but it would be harder to train. (1) Would give me only one answer for a large paragraph where there may be many answer worthy phrases. I think (1) is the better solution."
   ]
  },
  {
   "cell_type": "code",
   "execution_count": 185,
   "metadata": {},
   "outputs": [
    {
     "name": "stdout",
     "output_type": "stream",
     "text": [
      "87599\n",
      "87599\n"
     ]
    }
   ],
   "source": [
    "paragraphSamples = []\n",
    "answerSamples = [];\n",
    "\n",
    "for paragraphAnswersIndex in range(len(answers)):\n",
    "    for answerIndex in range(len(answers[paragraphAnswersIndex])):\n",
    "        paragraphSamples.append(paragraphs[paragraphAnswersIndex])\n",
    "        answerSamples.append(answers[paragraphAnswersIndex][answerIndex])\n",
    "\n",
    "print (len(paragraphSamples))\n",
    "print (len(answerSamples))"
   ]
  },
  {
   "cell_type": "markdown",
   "metadata": {},
   "source": [
    "Before we split the data into train, validation, test we need to shuffle."
   ]
  },
  {
   "cell_type": "code",
   "execution_count": 186,
   "metadata": {},
   "outputs": [],
   "source": [
    "import random\n",
    "\n",
    "combined = list(zip(paragraphSamples, answerSamples))\n",
    "random.shuffle(combined)\n",
    "\n",
    "paragraphSamples[:], answerSamples[:] = zip(*combined)"
   ]
  },
  {
   "cell_type": "markdown",
   "metadata": {},
   "source": [
    "Let's check if everything is still in order."
   ]
  },
  {
   "cell_type": "code",
   "execution_count": 187,
   "metadata": {},
   "outputs": [
    {
     "name": "stdout",
     "output_type": "stream",
     "text": [
      "answers in text: 87599\n",
      "answers not in text: 0\n"
     ]
    }
   ],
   "source": [
    "inText = []\n",
    "\n",
    "for index in range(len(paragraphSamples)):\n",
    "    inText.append(answerSamples[index] in paragraphSamples[index])\n",
    "    \n",
    "print ('answers in text: ' + str(inText.count(True)))\n",
    "print ('answers not in text: ' + str(inText.count(False)))"
   ]
  },
  {
   "cell_type": "markdown",
   "metadata": {},
   "source": [
    "Let's split our data into text files to be passed on to the NN."
   ]
  },
  {
   "cell_type": "code",
   "execution_count": 234,
   "metadata": {},
   "outputs": [],
   "source": [
    "tenthSize = int(len(paragraphSamples) / 10)\n",
    "\n",
    "#Test set\n",
    "test_text = open('data/test_text.txt', 'w')\n",
    "test_answer = open('data/test_answer.txt', 'w')\n",
    "\n",
    "for index in range(tenthSize):\n",
    "    test_text.write(\"%s\\n\" % paragraphSamples[index].encode(\"utf-8\"))\n",
    "    test_answer.write(\"%s\\n\" % answerSamples[index].encode(\"utf-8\"))\n",
    "    \n",
    "test_text.close()\n",
    "test_answer.close()\n",
    "\n",
    "#Validation set\n",
    "val_text = open('data/val_text.txt', 'w')\n",
    "val_answer = open('data/val_answer.txt', 'w')\n",
    "    \n",
    "for index in range(index, tenthSize * 3):\n",
    "    val_text.write(\"%s\\n\" % paragraphSamples[index].encode(\"utf-8\"))\n",
    "    val_answer.write(\"%s\\n\" % answerSamples[index].encode(\"utf-8\"))\n",
    "    \n",
    "val_text.close()\n",
    "val_answer.close()\n",
    "\n",
    "#Train set\n",
    "train_text = open('data/train_text.txt', 'w')\n",
    "train_answer = open('data/train_answer.txt', 'w')\n",
    "\n",
    "for index in range(index, len(paragraphSamples)):\n",
    "    train_text.write(\"%s\\n\" % paragraphSamples[index].encode(\"utf-8\"))\n",
    "    train_answer.write(\"%s\\n\" % answerSamples[index].encode(\"utf-8\"))\n",
    "    \n",
    "train_text.close()\n",
    "train_answer.close()"
   ]
  },
  {
   "cell_type": "code",
   "execution_count": null,
   "metadata": {},
   "outputs": [],
   "source": []
  }
 ],
 "metadata": {
  "kernelspec": {
   "display_name": "Python 3",
   "language": "python",
   "name": "python3"
  },
  "language_info": {
   "codemirror_mode": {
    "name": "ipython",
    "version": 3
   },
   "file_extension": ".py",
   "mimetype": "text/x-python",
   "name": "python",
   "nbconvert_exporter": "python",
   "pygments_lexer": "ipython3",
   "version": "3.6.2"
  }
 },
 "nbformat": 4,
 "nbformat_minor": 2
}
